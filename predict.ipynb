{
 "cells": [
  {
   "cell_type": "code",
   "execution_count": null,
   "id": "2164e6c5",
   "metadata": {},
   "outputs": [],
   "source": [
    "import pickle\n",
    "import re\n",
    "from nltk.stem import PorterStemmer\n",
    "from nltk.corpus import stopwords\n",
    "stemmer = PorterStemmer()\n",
    "\n",
    "with open('./model.pkl', 'rb') as f:\n",
    "    model = pickle.load(f)\n",
    "\n",
    "with open('./vectorizer.pkl', 'rb') as f:\n",
    "    cv = pickle.load(f)\n",
    "\n",
    "def preprocess_email(email_string):\n",
    "    data = re.sub('[^a-zA-Z0-9]', ' ', email_string)\n",
    "    data = data.lower()\n",
    "    data = data.split()\n",
    "    data = [stemmer.stem(word) for word in data if word not in set(stopwords.words('english'))]\n",
    "    data = ' '.join(data)\n",
    "    return data"
   ]
  },
  {
   "cell_type": "code",
   "execution_count": null,
   "id": "943b2d2c",
   "metadata": {},
   "outputs": [],
   "source": [
    "email = \"Hi, can we schedule a meeting tomorrow?\"\n",
    "\n",
    "email = preprocess_email(email)\n",
    "email_vector = cv.transform([email])\n",
    "pred = model.predict(email_vector)\n",
    "category = \"Spam\" if pred[0] == 1 else \"Ham\"\n",
    "print(f'\"{email}\" -> {category}')"
   ]
  }
 ],
 "metadata": {
  "kernelspec": {
   "display_name": "Python 3",
   "language": "python",
   "name": "python3"
  },
  "language_info": {
   "codemirror_mode": {
    "name": "ipython",
    "version": 3
   },
   "file_extension": ".py",
   "mimetype": "text/x-python",
   "name": "python",
   "nbconvert_exporter": "python",
   "pygments_lexer": "ipython3",
   "version": "3.11.4"
  }
 },
 "nbformat": 4,
 "nbformat_minor": 5
}
