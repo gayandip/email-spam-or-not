{
  "cells": [
    {
      "cell_type": "code",
      "execution_count": null,
      "metadata": {
        "id": "GKC_8HR1Wh44"
      },
      "outputs": [],
      "source": [
        "import pandas as pd\n",
        "df = pd.read_csv('./email.csv')\n",
        "df.head()"
      ]
    },
    {
      "cell_type": "code",
      "execution_count": null,
      "metadata": {
        "id": "70145507-3b3b-4d64-b4c0-a39830f9123f"
      },
      "outputs": [],
      "source": [
        "df.info()"
      ]
    },
    {
      "cell_type": "code",
      "execution_count": null,
      "metadata": {
        "id": "-cU_ItTzrCsm"
      },
      "outputs": [],
      "source": [
        "df['Category'].unique()"
      ]
    },
    {
      "cell_type": "code",
      "execution_count": null,
      "metadata": {
        "id": "WOICZ2EFrGgs"
      },
      "outputs": [],
      "source": [
        "df['Category'].value_counts()"
      ]
    },
    {
      "cell_type": "code",
      "execution_count": null,
      "metadata": {
        "id": "yFkrq0wNuCA1"
      },
      "outputs": [],
      "source": [
        "diff_rows = df[df['Category'].isin(['ham', 'spam'])]\n",
        "df = diff_rows"
      ]
    },
    {
      "cell_type": "code",
      "execution_count": null,
      "metadata": {
        "id": "sbN4dNxykiC3"
      },
      "outputs": [],
      "source": [
        "df.isnull().sum()"
      ]
    },
    {
      "cell_type": "code",
      "execution_count": null,
      "metadata": {
        "id": "cVsRG7hDkG3-"
      },
      "outputs": [],
      "source": [
        "df.dropna(inplace=True)"
      ]
    },
    {
      "cell_type": "code",
      "execution_count": null,
      "metadata": {
        "id": "oXIAVZaoX53w"
      },
      "outputs": [],
      "source": [
        "from sklearn.preprocessing import LabelEncoder\n",
        "encoder = LabelEncoder()\n",
        "df['Category'] = encoder.fit_transform(df['Category'])\n",
        "df = df.rename(columns={'Category': 'spam', 'Message': 'message'})\n",
        "df.head()"
      ]
    },
    {
      "cell_type": "code",
      "execution_count": null,
      "metadata": {
        "id": "uqQ0HcVdvqbh"
      },
      "outputs": [],
      "source": [
        "df.duplicated().sum()"
      ]
    },
    {
      "cell_type": "code",
      "execution_count": null,
      "metadata": {
        "id": "pXqDZyNpvu7Y"
      },
      "outputs": [],
      "source": [
        "df = df.drop_duplicates(keep='first')\n",
        "df.shape"
      ]
    },
    {
      "cell_type": "markdown",
      "metadata": {
        "id": "lrXR8k3hweMM"
      },
      "source": [
        "**Analysis**"
      ]
    },
    {
      "cell_type": "code",
      "execution_count": null,
      "metadata": {
        "id": "l7h2y1Shffrq"
      },
      "outputs": [],
      "source": [
        "import matplotlib.pyplot as plt\n",
        "plt.figure(figsize=(10, 4))\n",
        "plt.subplot(1, 2, 1)\n",
        "plt.bar(['Ham', 'Spam'], df['spam'].value_counts())\n",
        "plt.subplot(1, 2, 2)\n",
        "plt.pie(df['spam'].value_counts(), labels=['Ham', 'Spam'], autopct='%1.1f%%')\n",
        "plt.show()"
      ]
    },
    {
      "cell_type": "code",
      "execution_count": null,
      "metadata": {
        "id": "shzH22jHxmm7"
      },
      "outputs": [],
      "source": [
        "df[\"chars\"] = df.apply(lambda x: len(x[\"message\"]), axis=1)\n",
        "df.head()"
      ]
    },
    {
      "cell_type": "code",
      "execution_count": null,
      "metadata": {
        "id": "wkZGuHS0yIEO"
      },
      "outputs": [],
      "source": [
        "df[df.spam == 0].describe()"
      ]
    },
    {
      "cell_type": "code",
      "execution_count": null,
      "metadata": {
        "id": "e27mOiyNzc9A"
      },
      "outputs": [],
      "source": [
        "df[df.spam == 1].describe()"
      ]
    },
    {
      "cell_type": "markdown",
      "metadata": {
        "id": "RrJDTqklzugH"
      },
      "source": [
        "**preprocessing**"
      ]
    },
    {
      "cell_type": "code",
      "execution_count": null,
      "metadata": {
        "id": "X6FKXa0z24bU"
      },
      "outputs": [],
      "source": [
        "import nltk\n",
        "nltk.download('punkt')\n",
        "nltk.download('stopwords')"
      ]
    },
    {
      "cell_type": "code",
      "execution_count": null,
      "metadata": {
        "id": "TMH8m228iGqS"
      },
      "outputs": [],
      "source": [
        "from nltk.corpus import stopwords\n",
        "from nltk.stem import PorterStemmer\n",
        "import re\n",
        "\n",
        "stemmer = PorterStemmer()\n",
        "\n",
        "df = df.reset_index(drop=True)\n",
        "\n",
        "messages = df['message']\n",
        "spam = df['spam']\n",
        "\n",
        "corpus = []\n",
        "for i in range(len(messages)):\n",
        "    data = re.sub('[^a-zA-Z0-9]',' ',messages[i])\n",
        "    data = data.lower()\n",
        "    data = data.split()\n",
        "    data = [stemmer.stem(word)for word in data if word not in set(stopwords.words('english'))]\n",
        "    data = ' '.join(data)\n",
        "    corpus.append(data)\n",
        "df[\"new-msg\"] = corpus\n",
        "df.head()"
      ]
    },
    {
      "cell_type": "markdown",
      "metadata": {
        "id": "poeTHrFv6WO-"
      },
      "source": [
        "**model**"
      ]
    },
    {
      "cell_type": "code",
      "execution_count": null,
      "metadata": {
        "id": "IaR8tj_86c9d"
      },
      "outputs": [],
      "source": [
        "from sklearn.feature_extraction.text import CountVectorizer, TfidfVectorizer\n",
        "cv = CountVectorizer()\n",
        "# tf = TfidfVectorizer()\n",
        "x = cv.fit_transform(corpus).toarray()\n",
        "x.shape"
      ]
    },
    {
      "cell_type": "code",
      "execution_count": null,
      "metadata": {
        "id": "-hYBUt1s68ix"
      },
      "outputs": [],
      "source": [
        "y = df.spam.values"
      ]
    },
    {
      "cell_type": "code",
      "execution_count": null,
      "metadata": {
        "id": "Na4pJMpx7de7"
      },
      "outputs": [],
      "source": [
        "from sklearn.model_selection import train_test_split\n",
        "x_train, x_test, y_train, y_test = train_test_split(x,y,test_size=0.2,random_state=2)"
      ]
    },
    {
      "cell_type": "code",
      "execution_count": null,
      "metadata": {
        "id": "Wfszw_mU7hnl"
      },
      "outputs": [],
      "source": [
        "from sklearn.naive_bayes import MultinomialNB, BernoulliNB\n",
        "from sklearn.ensemble import RandomForestClassifier\n",
        "from sklearn.metrics import accuracy_score, precision_score, confusion_matrix\n",
        "\n",
        "bb = BernoulliNB()\n",
        "nb = MultinomialNB()\n",
        "rf = RandomForestClassifier()"
      ]
    },
    {
      "cell_type": "code",
      "execution_count": null,
      "metadata": {
        "id": "Xwi_qFp177aP"
      },
      "outputs": [],
      "source": [
        "bb.fit(x_train,y_train)\n",
        "y_pred1 = bb.predict(x_test)\n",
        "print(accuracy_score(y_pred1,y_test))\n",
        "print(confusion_matrix(y_pred1,y_test))\n",
        "print(precision_score(y_pred1,y_test))"
      ]
    },
    {
      "cell_type": "code",
      "execution_count": null,
      "metadata": {
        "id": "dqvQkf8d82BO"
      },
      "outputs": [],
      "source": [
        "nb.fit(x_train,y_train)\n",
        "y_pred2 = nb.predict(x_test)\n",
        "print(accuracy_score(y_pred2,y_test))\n",
        "print(confusion_matrix(y_pred2,y_test))\n",
        "print(precision_score(y_pred2,y_test))"
      ]
    },
    {
      "cell_type": "code",
      "execution_count": null,
      "metadata": {
        "id": "mdNpuynh9Kkn"
      },
      "outputs": [],
      "source": [
        "rf.fit(x_train,y_train)\n",
        "y_pred3 = rf.predict(x_test)\n",
        "print(accuracy_score(y_pred3,y_test))\n",
        "print(confusion_matrix(y_pred3,y_test))\n",
        "print(precision_score(y_pred3,y_test))"
      ]
    },
    {
      "cell_type": "markdown",
      "metadata": {
        "id": "xgdlJLkTvU_T"
      },
      "source": [
        "**save model**"
      ]
    },
    {
      "cell_type": "code",
      "execution_count": null,
      "metadata": {
        "id": "24d0f42d"
      },
      "outputs": [],
      "source": [
        "import pickle\n",
        "with open('../model.pkl', 'wb') as f:\n",
        "    pickle.dump(nb, f)\n",
        "\n",
        "with open('../vectorizer.pkl', 'wb') as f:\n",
        "    pickle.dump(cv, f)"
      ]
    }
  ],
  "metadata": {
    "accelerator": "GPU",
    "colab": {
      "gpuType": "T4",
      "provenance": []
    },
    "kernelspec": {
      "display_name": "Python 3",
      "name": "python3"
    },
    "language_info": {
      "codemirror_mode": {
        "name": "ipython",
        "version": 3
      },
      "file_extension": ".py",
      "mimetype": "text/x-python",
      "name": "python",
      "nbconvert_exporter": "python",
      "pygments_lexer": "ipython3",
      "version": "3.11.4"
    }
  },
  "nbformat": 4,
  "nbformat_minor": 0
}
